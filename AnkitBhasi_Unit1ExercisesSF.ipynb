{
  "nbformat": 4,
  "nbformat_minor": 0,
  "metadata": {
    "colab": {
      "provenance": [],
      "include_colab_link": true
    },
    "kernelspec": {
      "name": "python3",
      "display_name": "Python 3"
    },
    "language_info": {
      "name": "python"
    }
  },
  "cells": [
    {
      "cell_type": "markdown",
      "metadata": {
        "id": "view-in-github",
        "colab_type": "text"
      },
      "source": [
        "<a href=\"https://colab.research.google.com/github/Ankit-LASA/Data-Science/blob/main/AnkitBhasi_Unit1ExercisesSF.ipynb\" target=\"_parent\"><img src=\"https://colab.research.google.com/assets/colab-badge.svg\" alt=\"Open In Colab\"/></a>"
      ]
    },
    {
      "cell_type": "markdown",
      "source": [
        "# Unit 1 Exercises: Data Structure Concepts\n",
        "\n",
        "The following questions will ask you to describe the various objects we learned about in the first Unit.\n",
        "\n",
        "I'm not giving you coding exercises, because we will learn all the coding technqiues we need as we move through the course.\n",
        "\n",
        "What I do need from you right now, is a conceptual understanding how how data is stored in our computer, when we use python."
      ],
      "metadata": {
        "id": "65OCktLjbZmA"
      }
    },
    {
      "cell_type": "markdown",
      "source": [
        "**Task1**:\n",
        "\n",
        "Describe the similarities and differences between an int and a float in python."
      ],
      "metadata": {
        "id": "bt0bWe1evLtv"
      }
    },
    {
      "cell_type": "markdown",
      "source": [
        "**Answer1**:\n",
        "\n",
        "An int doesn't go into decimals/fractions and only takes the whole number value of both positive and negative numbers (ie -1, 2, 5, etc.). A float goes into the decimals and has a larger amount of storage (ie -1.0, 2.0, np.pi, etc.)."
      ],
      "metadata": {
        "id": "FW3KHt4yvt90"
      }
    },
    {
      "cell_type": "markdown",
      "source": [
        "**Task2**:\n",
        "\n",
        "Describe the similarities and differences between: strings, lists, and dicts."
      ],
      "metadata": {
        "id": "mJ_i6he5wwgr"
      }
    },
    {
      "cell_type": "markdown",
      "source": [
        "**Answer2**:\n",
        "\n",
        "Strings are immutable and iterable, but only holds char values together.\n",
        "\n",
        "Lists are mutable, can hold any value, and are iterable.\n",
        "\n",
        "Dicts are mutable, can hold any value, but uses a key/pair to store data and aren't entirely iterable."
      ],
      "metadata": {
        "id": "iFu5BKyWw98T"
      }
    },
    {
      "cell_type": "markdown",
      "source": [
        "**Task3**:\n",
        "\n",
        "What is a numpy array? Why would we ever use one over a list or dict?"
      ],
      "metadata": {
        "id": "56v05s45yBHk"
      }
    },
    {
      "cell_type": "markdown",
      "source": [
        "**Answer3**:\n",
        "\n",
        "A numpy array is immutable and only holds one data type. People use it over lists or dicts to allow their code to run faster or to automatically synchronize data types."
      ],
      "metadata": {
        "id": "eikgxyNzyLTY"
      }
    },
    {
      "cell_type": "markdown",
      "source": [
        "**Task4**:\n",
        "\n",
        "What is a pandas dataframe? Why would we ever want to use one over a numpy array?"
      ],
      "metadata": {
        "id": "RLaEQ5irywBl"
      }
    },
    {
      "cell_type": "markdown",
      "source": [
        "**Answer4**:\n",
        "\n",
        "Pandas is a type of dataframe that is synchronized with numpy. It's helpful because it comes with multiple, fast, vectorized operations and easily models 1D/2D arrays."
      ],
      "metadata": {
        "id": "5IkNlzYpy-HP"
      }
    },
    {
      "cell_type": "markdown",
      "source": [
        "**Task5**:\n",
        "\n",
        "What are for loops, and why would we ever use them?"
      ],
      "metadata": {
        "id": "khRn2d7qz1Y2"
      }
    },
    {
      "cell_type": "markdown",
      "source": [
        "**Answer5**:\n",
        "\n",
        "For loops are a type of loop that iterate through every value of some object/variable. People use them because it allows them to quickly perform a series of calculations or sift through large pieces of data."
      ],
      "metadata": {
        "id": "NAdVfRZB1d9J"
      }
    }
  ]
}